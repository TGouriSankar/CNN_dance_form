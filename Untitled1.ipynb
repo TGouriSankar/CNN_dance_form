{
 "cells": [
  {
   "cell_type": "code",
   "execution_count": 1,
   "id": "569cc994",
   "metadata": {},
   "outputs": [],
   "source": [
    "import os\n",
    "import numpy as np\n",
    "import shutil\n",
    "import pandas as pd"
   ]
  },
  {
   "cell_type": "code",
   "execution_count": 20,
   "id": "f00e5b4f",
   "metadata": {},
   "outputs": [
    {
     "name": "stdout",
     "output_type": "stream",
     "text": [
      "########### Train Test Val Script started ###########\n",
      "$$$$$$$ Class Name bharatanatyam $$$$$$$\n",
      "Total images: 1504\n",
      "Training: 902\n",
      "Validation: 301\n",
      "Testing: 301\n",
      "$$$$$$$ Class Name kathak $$$$$$$\n",
      "Total images: 500\n",
      "Training: 300\n",
      "Validation: 100\n",
      "Testing: 100\n",
      "$$$$$$$ Class Name kathakali $$$$$$$\n",
      "Total images: 500\n",
      "Training: 300\n",
      "Validation: 100\n",
      "Testing: 100\n",
      "$$$$$$$ Class Name kuchipudi $$$$$$$\n",
      "Total images: 500\n",
      "Training: 300\n",
      "Validation: 100\n",
      "Testing: 100\n",
      "$$$$$$$ Class Name manipuri $$$$$$$\n",
      "Total images: 500\n",
      "Training: 300\n",
      "Validation: 100\n",
      "Testing: 100\n",
      "$$$$$$$ Class Name mohiniyattam $$$$$$$\n",
      "Total images: 500\n",
      "Training: 300\n",
      "Validation: 100\n",
      "Testing: 100\n",
      "$$$$$$$ Class Name odissi $$$$$$$\n",
      "Total images: 500\n",
      "Training: 300\n",
      "Validation: 100\n",
      "Testing: 100\n",
      "$$$$$$$ Class Name sattriya $$$$$$$\n",
      "Total images: 500\n",
      "Training: 300\n",
      "Validation: 100\n",
      "Testing: 100\n",
      "########### Train Test Val Script Ended ###########\n"
     ]
    }
   ],
   "source": [
    "import os\n",
    "import numpy as np\n",
    "import shutil\n",
    "import pandas as pd\n",
    "\n",
    "\n",
    "def train_test_split():\n",
    "    print(\"########### Train Test Val Script started ###########\")\n",
    "\n",
    "    root_dir = 'C:\\\\Users\\\\Sirisha\\\\cnn\\\\bean'\n",
    "    classes_dir = ['bharatanatyam', 'kathak', 'kathakali', 'kuchipudi', 'manipuri', 'mohiniyattam',\n",
    "                   'odissi', 'sattriya']\n",
    "\n",
    "    processed_dir = 'split'\n",
    "\n",
    "    val_ratio = 0.20\n",
    "    test_ratio = 0.20\n",
    "\n",
    "    for cls in classes_dir:\n",
    "        # Creating partitions of the data after shuffeling\n",
    "        print(\"$$$$$$$ Class Name \" + cls + \" $$$$$$$\")\n",
    "        src = root_dir +\"//\" + cls  # Folder to copy images from\n",
    "\n",
    "        allFileNames = os.listdir(src)\n",
    "        np.random.shuffle(allFileNames)\n",
    "        train_FileNames, val_FileNames, test_FileNames = np.split(np.array(allFileNames),\n",
    "                                                                  [int(len(allFileNames) * (1 - (val_ratio + test_ratio))),\n",
    "                                                                   int(len(allFileNames) * (1 - val_ratio)),\n",
    "                                                                   ])\n",
    "\n",
    "        train_FileNames = [src + '//' + name for name in train_FileNames.tolist()]\n",
    "        val_FileNames = [src + '//' + name for name in val_FileNames.tolist()]\n",
    "        test_FileNames = [src + '//' + name for name in test_FileNames.tolist()]\n",
    "\n",
    "        print('Total images: '+ str(len(allFileNames)))\n",
    "        print('Training: '+ str(len(train_FileNames)))\n",
    "        print('Validation: '+  str(len(val_FileNames)))\n",
    "        print('Testing: '+ str(len(test_FileNames)))\n",
    "\n",
    "        # # Creating Train / Val / Test folders (One time use)\n",
    "        os.makedirs(processed_dir + '/train//' + cls)\n",
    "        os.makedirs(processed_dir + '/val//' + cls)\n",
    "        os.makedirs(processed_dir + '/test//' + cls)\n",
    "\n",
    "        # Copy-pasting images\n",
    "        for name in train_FileNames:\n",
    "            shutil.copy(name, processed_dir + '/train//' + cls)\n",
    "\n",
    "        for name in val_FileNames:\n",
    "            shutil.copy(name, processed_dir + '/val//' + cls)\n",
    "\n",
    "        for name in test_FileNames:\n",
    "            shutil.copy(name, processed_dir + '/test//' + cls)\n",
    "\n",
    "    print(\"########### Train Test Val Script Ended ###########\")\n",
    "\n",
    "train_test_split()"
   ]
  },
  {
   "cell_type": "code",
   "execution_count": 10,
   "id": "d3cbcf71",
   "metadata": {},
   "outputs": [
    {
     "name": "stdout",
     "output_type": "stream",
     "text": [
      "########### Train Test Val Script started ###########\n",
      "C:\\Users\\Sirisha\\cnn\n",
      "$$$$$$$ Class Name gs $$$$$$$\n",
      "['4747243.webp', '714551.jpg', '89045.jpg', 'bugatti-bolide-bugatti-car-vehicle-supercars-hd-wallpaper-preview.jpg', 'data-breach-hacker-hacking-8k-wallpaper-11624130335q7fanylaqa.jpg', 'hacker-laptop-abstract-cyber-attack-backdrop-hacker-laptop-virus-concept-d-rendering-123145795.jpg', 'HD-wallpaper-bugatti-bike-car-entertainment-faster-latest-race-speed.jpg', 'QNyzuL.jpg']\n"
     ]
    },
    {
     "data": {
      "text/plain": [
       "0"
      ]
     },
     "execution_count": 10,
     "metadata": {},
     "output_type": "execute_result"
    }
   ],
   "source": []
  },
  {
   "cell_type": "code",
   "execution_count": 12,
   "id": "a42e5b66",
   "metadata": {},
   "outputs": [
    {
     "data": {
      "text/plain": [
       "'C:\\\\Users\\\\Sirisha\\\\cnn'"
      ]
     },
     "execution_count": 12,
     "metadata": {},
     "output_type": "execute_result"
    }
   ],
   "source": [
    "pwd"
   ]
  },
  {
   "cell_type": "code",
   "execution_count": 8,
   "id": "8f48be79",
   "metadata": {},
   "outputs": [
    {
     "name": "stdout",
     "output_type": "stream",
     "text": [
      " Volume in drive C is OS\n",
      " Volume Serial Number is A6CA-595B\n",
      "\n",
      " Directory of C:\\Users\\Sirisha\\cnn\n",
      "\n",
      "30-09-2022  12:02    <DIR>          .\n",
      "30-09-2022  01:57    <DIR>          ..\n",
      "30-09-2022  11:41    <DIR>          .ipynb_checkpoints\n",
      "29-09-2022  00:03         1,550,314 image.ipynb\n",
      "30-09-2022  11:30             1,789 Untitled.ipynb\n",
      "30-09-2022  12:02             3,300 Untitled1.ipynb\n",
      "               3 File(s)      1,555,403 bytes\n",
      "               3 Dir(s)  83,275,460,608 bytes free\n"
     ]
    }
   ],
   "source": [
    "ls"
   ]
  },
  {
   "cell_type": "code",
   "execution_count": 16,
   "id": "9fd9114e",
   "metadata": {},
   "outputs": [
    {
     "data": {
      "text/plain": [
       "'C:\\\\Users\\\\Sirisha\\\\cnn'"
      ]
     },
     "execution_count": 16,
     "metadata": {},
     "output_type": "execute_result"
    }
   ],
   "source": [
    "pwd"
   ]
  },
  {
   "cell_type": "code",
   "execution_count": 17,
   "id": "16e8f4a2",
   "metadata": {},
   "outputs": [
    {
     "name": "stdout",
     "output_type": "stream",
     "text": [
      " Volume in drive C is OS\n",
      " Volume Serial Number is A6CA-595B\n",
      "\n",
      " Directory of C:\\Users\\Sirisha\\cnn\n",
      "\n",
      "30-09-2022  12:19    <DIR>          .\n",
      "30-09-2022  01:57    <DIR>          ..\n",
      "30-09-2022  11:41    <DIR>          .ipynb_checkpoints\n",
      "30-09-2022  12:19    <DIR>          bean\n",
      "29-09-2022  00:03         1,550,314 image.ipynb\n",
      "30-09-2022  12:16    <DIR>          split\n",
      "30-09-2022  11:30             1,789 Untitled.ipynb\n",
      "30-09-2022  12:18             7,584 Untitled1.ipynb\n",
      "               3 File(s)      1,559,687 bytes\n",
      "               5 Dir(s)  82,534,711,296 bytes free\n"
     ]
    }
   ],
   "source": [
    "ls"
   ]
  },
  {
   "cell_type": "code",
   "execution_count": 18,
   "id": "24c5090b",
   "metadata": {},
   "outputs": [
    {
     "name": "stdout",
     "output_type": "stream",
     "text": [
      "C:\\Users\\Sirisha\\cnn\\bean\n"
     ]
    }
   ],
   "source": [
    "cd bean"
   ]
  },
  {
   "cell_type": "code",
   "execution_count": 19,
   "id": "954bdedf",
   "metadata": {},
   "outputs": [
    {
     "data": {
      "text/plain": [
       "'C:\\\\Users\\\\Sirisha\\\\cnn\\\\bean'"
      ]
     },
     "execution_count": 19,
     "metadata": {},
     "output_type": "execute_result"
    }
   ],
   "source": [
    "pwd"
   ]
  },
  {
   "cell_type": "code",
   "execution_count": 1,
   "id": "41889f56",
   "metadata": {},
   "outputs": [
    {
     "data": {
      "text/plain": [
       "'C:\\\\Users\\\\Sirisha\\\\cnn'"
      ]
     },
     "execution_count": 1,
     "metadata": {},
     "output_type": "execute_result"
    }
   ],
   "source": [
    "pwd"
   ]
  },
  {
   "cell_type": "code",
   "execution_count": 2,
   "id": "222ef0af",
   "metadata": {},
   "outputs": [
    {
     "name": "stdout",
     "output_type": "stream",
     "text": [
      "C:\\Users\\Sirisha\\cnn\\bean\n"
     ]
    }
   ],
   "source": [
    "cd bean"
   ]
  },
  {
   "cell_type": "code",
   "execution_count": 3,
   "id": "8b3370cd",
   "metadata": {},
   "outputs": [
    {
     "name": "stdout",
     "output_type": "stream",
     "text": [
      " Volume in drive C is OS\n",
      " Volume Serial Number is A6CA-595B\n",
      "\n",
      " Directory of C:\\Users\\Sirisha\\cnn\\bean\n",
      "\n",
      "30-09-2022  12:20    <DIR>          .\n",
      "30-09-2022  12:22    <DIR>          ..\n",
      "30-09-2022  12:14    <DIR>          bharatanatyam\n",
      "30-09-2022  12:13    <DIR>          kathak\n",
      "30-09-2022  12:13    <DIR>          kathakali\n",
      "30-09-2022  12:13    <DIR>          kuchipudi\n",
      "30-09-2022  12:13    <DIR>          manipuri\n",
      "30-09-2022  12:13    <DIR>          mohiniyattam\n",
      "30-09-2022  12:14    <DIR>          odissi\n",
      "30-09-2022  12:14    <DIR>          sattriya\n",
      "30-09-2022  12:20    <DIR>          split\n",
      "               0 File(s)              0 bytes\n",
      "              11 Dir(s)  70,774,153,216 bytes free\n"
     ]
    }
   ],
   "source": [
    "ls"
   ]
  }
 ],
 "metadata": {
  "kernelspec": {
   "display_name": "Python 3 (ipykernel)",
   "language": "python",
   "name": "python3"
  },
  "language_info": {
   "codemirror_mode": {
    "name": "ipython",
    "version": 3
   },
   "file_extension": ".py",
   "mimetype": "text/x-python",
   "name": "python",
   "nbconvert_exporter": "python",
   "pygments_lexer": "ipython3",
   "version": "3.9.12"
  }
 },
 "nbformat": 4,
 "nbformat_minor": 5
}
