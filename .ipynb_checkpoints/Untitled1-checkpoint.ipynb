{
 "cells": [
  {
   "cell_type": "code",
   "execution_count": 1,
   "id": "9b448191",
   "metadata": {},
   "outputs": [],
   "source": [
    "import os\n",
    "import numpy as np\n",
    "import shutil\n",
    "import pandas as pd"
   ]
  },
  {
   "cell_type": "code",
   "execution_count": 6,
   "id": "06f96b80",
   "metadata": {},
   "outputs": [],
   "source": [
    "def train_test_split():\n",
    "    print(\"########### Train Test Val Script started ###########\")\n",
    "\n",
    "    root_dir = 'C:\\\\Users\\\\Sirisha\\\\cnn'\n",
    "    classes_dir = ['bharatanatyam', 'kathak', 'kathakali', 'kuchipudi', 'manipuri', 'mohiniyattam',\n",
    "                   'odissi', 'sattriya']\n",
    "    \n",
    "    print(root_dir)\n",
    "\n",
    "    processed_dir = 'split'\n",
    "\n",
    "    val_ratio = 0.20\n",
    "    test_ratio = 0.20\n",
    "\n",
    "    for cls in classes_dir:\n",
    "        # Creating partitions of the data after shuffeling\n",
    "        print(\"$$$$$$$ Class Name \" + cls + \" $$$$$$$\")\n",
    "        src = root_dir +\"//\" + cls  # Folder to copy images from\n",
    "\n",
    "        allFileNames = os.listdir(src)\n",
    "        print(allFileNames)\n",
    "#         np.random.shuffle(allFileNames)\n",
    "#         train_FileNames, val_FileNames, test_FileNames = np.split(np.array(allFileNames),\n",
    "#                                                                   [int(len(allFileNames) * (1 - (val_ratio + test_ratio))),\n",
    "#                                                                    int(len(allFileNames) * (1 - val_ratio)),\n",
    "#                                                                    ])\n",
    "#         print(train_FileNames.shape, val_FileNames.shape, test_FileNames.shape)\n",
    "        return 0\n"
   ]
  },
  {
   "cell_type": "code",
   "execution_count": 7,
   "id": "0e2fcf5d",
   "metadata": {},
   "outputs": [
    {
     "name": "stdout",
     "output_type": "stream",
     "text": [
      "########### Train Test Val Script started ###########\n",
      "data\n",
      "$$$$$$$ Class Name bharatanatyam $$$$$$$\n"
     ]
    },
    {
     "data": {
      "text/plain": [
       "0"
      ]
     },
     "execution_count": 7,
     "metadata": {},
     "output_type": "execute_result"
    }
   ],
   "source": [
    "train_test_split()"
   ]
  },
  {
   "cell_type": "code",
   "execution_count": 5,
   "id": "74376f15",
   "metadata": {},
   "outputs": [
    {
     "data": {
      "text/plain": [
       "'C:\\\\Users\\\\Sirisha\\\\cnn'"
      ]
     },
     "execution_count": 5,
     "metadata": {},
     "output_type": "execute_result"
    }
   ],
   "source": [
    "pwd"
   ]
  },
  {
   "cell_type": "code",
   "execution_count": null,
   "id": "a345f2ee",
   "metadata": {},
   "outputs": [],
   "source": []
  }
 ],
 "metadata": {
  "kernelspec": {
   "display_name": "Python 3 (ipykernel)",
   "language": "python",
   "name": "python3"
  },
  "language_info": {
   "codemirror_mode": {
    "name": "ipython",
    "version": 3
   },
   "file_extension": ".py",
   "mimetype": "text/x-python",
   "name": "python",
   "nbconvert_exporter": "python",
   "pygments_lexer": "ipython3",
   "version": "3.9.12"
  }
 },
 "nbformat": 4,
 "nbformat_minor": 5
}
